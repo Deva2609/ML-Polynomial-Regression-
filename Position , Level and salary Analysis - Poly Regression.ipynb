{
 "cells": [
  {
   "cell_type": "markdown",
   "id": "608c498d",
   "metadata": {},
   "source": [
    "Overview of the Problem Statement\n",
    "\n",
    "Dataset\n",
    "First lets look at the dataset. It is Position_Salaries.csv and can be found here\n",
    "It has 3 columns - \"Position\", \"Level\" and \"Salary\" and describes the approximate salary range for an employee based on what level he falls under.\n",
    "\n",
    "For example if an employee is a Manager - he falls in Level 4 and should get around $80,000.\n",
    "\n",
    "Project Objective\n",
    "Lets assume the above table is what the HR team of a company uses to determine what salary to offer to a new employee. \n",
    "For our project, let's take an example that an employee has applied for the role of a Regional Manager and has already worked as a Regional Manager for 2 years. \n",
    "So based on the table above - he falls between level 6 and level 7 - Lets say he falls under level 6.5\n",
    "We want to build a model to predict what salary we should offer this new employee.\n",
    "\n",
    "\n",
    "1. Use Linear Model and Visualise the Plot \n",
    "2. Use Polynomial Regression and Visualise the Plot Properly.\n",
    "3. Use Proper Diagonistics to show the accuracy and error of the Model\n",
    "4. Perform the task both in Excel and Python\n",
    "5. Create a Proper Presentation regarding the Use Case.\n",
    "6. Share the html of the Python Note book only.\n"
   ]
  },
  {
   "cell_type": "markdown",
   "id": "aab24925",
   "metadata": {},
   "source": [
    "Importing the dataset"
   ]
  },
  {
   "cell_type": "code",
   "execution_count": 1,
   "id": "4fdb9a53",
   "metadata": {},
   "outputs": [],
   "source": [
    "import os\n",
    "import pandas as pd\n",
    "import matplotlib.pyplot as plt\n",
    "from sklearn.metrics import mean_squared_error\n",
    "from math import sqrt"
   ]
  },
  {
   "cell_type": "code",
   "execution_count": 2,
   "id": "b7808ab0",
   "metadata": {},
   "outputs": [],
   "source": [
    "path='C:/Users/devar/Desktop/data set1'"
   ]
  },
  {
   "cell_type": "code",
   "execution_count": 3,
   "id": "383cfd13",
   "metadata": {},
   "outputs": [],
   "source": [
    "os.chdir(path)"
   ]
  },
  {
   "cell_type": "code",
   "execution_count": 4,
   "id": "9d848f53",
   "metadata": {},
   "outputs": [
    {
     "data": {
      "text/plain": [
       "['cast.csv',\n",
       " 'Copy of Countif Exercise - 1.xlsx',\n",
       " 'CORELATION ANALYSIS.csv',\n",
       " 'Iphone Purchase data.csv',\n",
       " 'salary and position.csv',\n",
       " 'SATISTICS.xlsx']"
      ]
     },
     "execution_count": 4,
     "metadata": {},
     "output_type": "execute_result"
    }
   ],
   "source": [
    "os.listdir()"
   ]
  },
  {
   "cell_type": "code",
   "execution_count": 5,
   "id": "3f859df9",
   "metadata": {},
   "outputs": [
    {
     "data": {
      "text/html": [
       "<div>\n",
       "<style scoped>\n",
       "    .dataframe tbody tr th:only-of-type {\n",
       "        vertical-align: middle;\n",
       "    }\n",
       "\n",
       "    .dataframe tbody tr th {\n",
       "        vertical-align: top;\n",
       "    }\n",
       "\n",
       "    .dataframe thead th {\n",
       "        text-align: right;\n",
       "    }\n",
       "</style>\n",
       "<table border=\"1\" class=\"dataframe\">\n",
       "  <thead>\n",
       "    <tr style=\"text-align: right;\">\n",
       "      <th></th>\n",
       "      <th>Position</th>\n",
       "      <th>Level</th>\n",
       "      <th>Salary</th>\n",
       "    </tr>\n",
       "  </thead>\n",
       "  <tbody>\n",
       "    <tr>\n",
       "      <th>0</th>\n",
       "      <td>Business Analyst</td>\n",
       "      <td>1</td>\n",
       "      <td>45000</td>\n",
       "    </tr>\n",
       "    <tr>\n",
       "      <th>1</th>\n",
       "      <td>Junior Consultant</td>\n",
       "      <td>2</td>\n",
       "      <td>50000</td>\n",
       "    </tr>\n",
       "    <tr>\n",
       "      <th>2</th>\n",
       "      <td>Senior Consultant</td>\n",
       "      <td>3</td>\n",
       "      <td>60000</td>\n",
       "    </tr>\n",
       "    <tr>\n",
       "      <th>3</th>\n",
       "      <td>Manager</td>\n",
       "      <td>4</td>\n",
       "      <td>80000</td>\n",
       "    </tr>\n",
       "    <tr>\n",
       "      <th>4</th>\n",
       "      <td>Country Manager</td>\n",
       "      <td>5</td>\n",
       "      <td>110000</td>\n",
       "    </tr>\n",
       "  </tbody>\n",
       "</table>\n",
       "</div>"
      ],
      "text/plain": [
       "            Position  Level  Salary\n",
       "0   Business Analyst      1   45000\n",
       "1  Junior Consultant      2   50000\n",
       "2  Senior Consultant      3   60000\n",
       "3            Manager      4   80000\n",
       "4    Country Manager      5  110000"
      ]
     },
     "execution_count": 5,
     "metadata": {},
     "output_type": "execute_result"
    }
   ],
   "source": [
    "data=pd.read_csv('salary and position.csv')\n",
    "data.head()"
   ]
  },
  {
   "cell_type": "markdown",
   "id": "d88ea554",
   "metadata": {},
   "source": [
    " Data Preprocessing"
   ]
  },
  {
   "cell_type": "code",
   "execution_count": 6,
   "id": "c0d8ca81",
   "metadata": {},
   "outputs": [
    {
     "data": {
      "text/plain": [
       "(10, 3)"
      ]
     },
     "execution_count": 6,
     "metadata": {},
     "output_type": "execute_result"
    }
   ],
   "source": [
    "data.shape"
   ]
  },
  {
   "cell_type": "code",
   "execution_count": 7,
   "id": "06501d4b",
   "metadata": {},
   "outputs": [],
   "source": [
    "# Lets taking X and y values \n",
    "X=data['Level'].values\n",
    "y=data['Salary'].values"
   ]
  },
  {
   "cell_type": "code",
   "execution_count": 8,
   "id": "55a47fd6",
   "metadata": {},
   "outputs": [
    {
     "data": {
      "text/plain": [
       "numpy.ndarray"
      ]
     },
     "execution_count": 8,
     "metadata": {},
     "output_type": "execute_result"
    }
   ],
   "source": [
    "X=X.reshape(-1,1)\n",
    "X\n",
    "type(X)"
   ]
  },
  {
   "cell_type": "code",
   "execution_count": 9,
   "id": "1db03e82",
   "metadata": {},
   "outputs": [
    {
     "data": {
      "text/plain": [
       "numpy.ndarray"
      ]
     },
     "execution_count": 9,
     "metadata": {},
     "output_type": "execute_result"
    }
   ],
   "source": [
    "y=y.reshape(-1,1)\n",
    "y\n",
    "type(y)"
   ]
  },
  {
   "cell_type": "markdown",
   "id": "1d2de00e",
   "metadata": {},
   "source": [
    "Fitting a Linear Regression Model"
   ]
  },
  {
   "cell_type": "code",
   "execution_count": 10,
   "id": "d1001770",
   "metadata": {},
   "outputs": [],
   "source": [
    "#Using Linear model and Visualise the Plot.. \n",
    "from sklearn.linear_model import LinearRegression"
   ]
  },
  {
   "cell_type": "code",
   "execution_count": 11,
   "id": "1a282dac",
   "metadata": {},
   "outputs": [],
   "source": [
    "lin=LinearRegression()"
   ]
  },
  {
   "cell_type": "code",
   "execution_count": 12,
   "id": "731eab8b",
   "metadata": {},
   "outputs": [
    {
     "data": {
      "text/plain": [
       "LinearRegression()"
      ]
     },
     "execution_count": 12,
     "metadata": {},
     "output_type": "execute_result"
    }
   ],
   "source": [
    "lin.fit(X,y)"
   ]
  },
  {
   "cell_type": "markdown",
   "id": "29f9cf92",
   "metadata": {},
   "source": [
    "Visualizing results of the linear regression model"
   ]
  },
  {
   "cell_type": "code",
   "execution_count": 13,
   "id": "bbbbb5c4",
   "metadata": {
    "scrolled": true
   },
   "outputs": [
    {
     "data": {
      "text/plain": [
       "Text(0, 0.5, 'Salary')"
      ]
     },
     "execution_count": 13,
     "metadata": {},
     "output_type": "execute_result"
    },
    {
     "data": {
      "image/png": "[encoded data removed]",
      "text/plain": [
       "<Figure size 640x480 with 1 Axes>"
      ]
     },
     "metadata": {},
     "output_type": "display_data"
    }
   ],
   "source": [
    "plt.scatter(X,y,color='blue')\n",
    "plt.plot(X,lin.predict(X),color='red')\n",
    "plt.title(\"Salary VS Position Level\")\n",
    "plt.xlabel('Position Level')\n",
    "plt.ylabel('Salary')"
   ]
  },
  {
   "cell_type": "code",
   "execution_count": 14,
   "id": "5424d032",
   "metadata": {},
   "outputs": [],
   "source": [
    "## Coefficient(m) and intercept(C) values for linear Model"
   ]
  },
  {
   "cell_type": "code",
   "execution_count": 15,
   "id": "ff7b9bb0",
   "metadata": {},
   "outputs": [
    {
     "data": {
      "text/plain": [
       "array([[80878.78787879]])"
      ]
     },
     "execution_count": 15,
     "metadata": {},
     "output_type": "execute_result"
    }
   ],
   "source": [
    "lin.coef_"
   ]
  },
  {
   "cell_type": "code",
   "execution_count": 16,
   "id": "37837157",
   "metadata": {},
   "outputs": [
    {
     "data": {
      "text/plain": [
       "array([-195333.33333333])"
      ]
     },
     "execution_count": 16,
     "metadata": {},
     "output_type": "execute_result"
    }
   ],
   "source": [
    "lin.intercept_"
   ]
  },
  {
   "cell_type": "code",
   "execution_count": 47,
   "id": "a4662cd3",
   "metadata": {},
   "outputs": [
    {
     "data": {
      "text/plain": [
       "array([[-114454.54545455],\n",
       "       [ -33575.75757576],\n",
       "       [  47303.03030303],\n",
       "       [ 128181.81818182],\n",
       "       [ 209060.60606061],\n",
       "       [ 289939.39393939],\n",
       "       [ 370818.18181818],\n",
       "       [ 451696.96969697],\n",
       "       [ 532575.75757576],\n",
       "       [ 613454.54545455]])"
      ]
     },
     "execution_count": 47,
     "metadata": {},
     "output_type": "execute_result"
    }
   ],
   "source": [
    "### Diagonistics to check accuracy of the model and error in the model.\n",
    "pred = lin.predict(X)\n",
    "pred"
   ]
  },
  {
   "cell_type": "code",
   "execution_count": 48,
   "id": "4cac147b",
   "metadata": {},
   "outputs": [
    {
     "data": {
      "text/plain": [
       "26695878787.878784"
      ]
     },
     "execution_count": 48,
     "metadata": {},
     "output_type": "execute_result"
    }
   ],
   "source": [
    "##### Mean Squared Error (mse) #y is actual val and pred id predicted value (act-pred)^2, total it and mean \n",
    "mean_squared_error(y,pred) #pred is predicted using linear reg model. \n",
    "##error is way too high for linear reg model . hence polynomial regression model should give best result. "
   ]
  },
  {
   "cell_type": "code",
   "execution_count": 49,
   "id": "ffa73414",
   "metadata": {},
   "outputs": [
    {
     "data": {
      "text/plain": [
       "163388.73519272613"
      ]
     },
     "execution_count": 49,
     "metadata": {},
     "output_type": "execute_result"
    }
   ],
   "source": [
    "sqrt(mean_squared_error(y,pred))"
   ]
  },
  {
   "cell_type": "code",
   "execution_count": 17,
   "id": "b54fd628",
   "metadata": {},
   "outputs": [],
   "source": [
    "## Strength of the model"
   ]
  },
  {
   "cell_type": "code",
   "execution_count": 50,
   "id": "c105571e",
   "metadata": {},
   "outputs": [
    {
     "data": {
      "text/plain": [
       "0.6690412331929895"
      ]
     },
     "execution_count": 50,
     "metadata": {},
     "output_type": "execute_result"
    }
   ],
   "source": [
    "lin.score(X,y)"
   ]
  },
  {
   "cell_type": "markdown",
   "id": "31296ef4",
   "metadata": {},
   "source": [
    "Fitting a Polynomial Regression Model"
   ]
  },
  {
   "cell_type": "code",
   "execution_count": 51,
   "id": "48a7b8c8",
   "metadata": {},
   "outputs": [],
   "source": [
    "## using polynomial regression and visualise the plot. \n",
    "from sklearn.preprocessing import PolynomialFeatures"
   ]
  },
  {
   "cell_type": "code",
   "execution_count": 52,
   "id": "dde0435c",
   "metadata": {},
   "outputs": [],
   "source": [
    "Poly=PolynomialFeatures(degree=4)"
   ]
  },
  {
   "cell_type": "code",
   "execution_count": 53,
   "id": "8ca79bf8",
   "metadata": {},
   "outputs": [
    {
     "data": {
      "text/plain": [
       "array([[1.000e+00, 1.000e+00, 1.000e+00, 1.000e+00, 1.000e+00],\n",
       "       [1.000e+00, 2.000e+00, 4.000e+00, 8.000e+00, 1.600e+01],\n",
       "       [1.000e+00, 3.000e+00, 9.000e+00, 2.700e+01, 8.100e+01],\n",
       "       [1.000e+00, 4.000e+00, 1.600e+01, 6.400e+01, 2.560e+02],\n",
       "       [1.000e+00, 5.000e+00, 2.500e+01, 1.250e+02, 6.250e+02],\n",
       "       [1.000e+00, 6.000e+00, 3.600e+01, 2.160e+02, 1.296e+03],\n",
       "       [1.000e+00, 7.000e+00, 4.900e+01, 3.430e+02, 2.401e+03],\n",
       "       [1.000e+00, 8.000e+00, 6.400e+01, 5.120e+02, 4.096e+03],\n",
       "       [1.000e+00, 9.000e+00, 8.100e+01, 7.290e+02, 6.561e+03],\n",
       "       [1.000e+00, 1.000e+01, 1.000e+02, 1.000e+03, 1.000e+04]])"
      ]
     },
     "execution_count": 53,
     "metadata": {},
     "output_type": "execute_result"
    }
   ],
   "source": [
    "Poly_x=Poly.fit_transform(X)\n",
    "Poly_x"
   ]
  },
  {
   "cell_type": "code",
   "execution_count": 54,
   "id": "ff04d4d1",
   "metadata": {},
   "outputs": [
    {
     "data": {
      "text/plain": [
       "array([[ 1],\n",
       "       [ 2],\n",
       "       [ 3],\n",
       "       [ 4],\n",
       "       [ 5],\n",
       "       [ 6],\n",
       "       [ 7],\n",
       "       [ 8],\n",
       "       [ 9],\n",
       "       [10]], dtype=int64)"
      ]
     },
     "execution_count": 54,
     "metadata": {},
     "output_type": "execute_result"
    }
   ],
   "source": [
    "X"
   ]
  },
  {
   "cell_type": "code",
   "execution_count": 55,
   "id": "33bb5c97",
   "metadata": {},
   "outputs": [
    {
     "data": {
      "text/plain": [
       "PolynomialFeatures(degree=4)"
      ]
     },
     "execution_count": 55,
     "metadata": {},
     "output_type": "execute_result"
    }
   ],
   "source": [
    "Poly.fit(Poly_x,y)"
   ]
  },
  {
   "cell_type": "code",
   "execution_count": 56,
   "id": "648661cd",
   "metadata": {},
   "outputs": [
    {
     "data": {
      "text/plain": [
       "LinearRegression()"
      ]
     },
     "execution_count": 56,
     "metadata": {},
     "output_type": "execute_result"
    }
   ],
   "source": [
    "lin2=LinearRegression()\n",
    "lin2.fit(Poly_x,y)"
   ]
  },
  {
   "cell_type": "markdown",
   "id": "d046142a",
   "metadata": {},
   "source": [
    "Visualizing the Polynomial Regression model"
   ]
  },
  {
   "cell_type": "code",
   "execution_count": 57,
   "id": "875a5fa7",
   "metadata": {
    "scrolled": true
   },
   "outputs": [
    {
     "data": {
      "text/plain": [
       "Text(0, 0.5, 'Salary')"
      ]
     },
     "execution_count": 57,
     "metadata": {},
     "output_type": "execute_result"
    },
    {
     "data": {
      "image/png": "[encoded data removed]",
      "text/plain": [
       "<Figure size 640x480 with 1 Axes>"
      ]
     },
     "metadata": {},
     "output_type": "display_data"
    }
   ],
   "source": [
    "plt.scatter(X,y,color='blue')\n",
    "plt.plot(X,lin2.predict(Poly.fit_transform(X)),color='red')\n",
    "plt.title(\"Salary VS Position Level\")\n",
    "plt.xlabel('Position Level')\n",
    "plt.ylabel('Salary')"
   ]
  },
  {
   "cell_type": "markdown",
   "id": "f9d8c015",
   "metadata": {},
   "source": [
    "Predicted Salary"
   ]
  },
  {
   "cell_type": "code",
   "execution_count": 58,
   "id": "4e20b405",
   "metadata": {},
   "outputs": [],
   "source": [
    "pred_Salary=lin2.predict(Poly.fit_transform(X))"
   ]
  },
  {
   "cell_type": "code",
   "execution_count": 59,
   "id": "5c777584",
   "metadata": {
    "scrolled": true
   },
   "outputs": [
    {
     "data": {
      "text/plain": [
       "array([[ 53356.64335683],\n",
       "       [ 31759.90675992],\n",
       "       [ 58642.19114218],\n",
       "       [ 94632.86713289],\n",
       "       [121724.941725  ],\n",
       "       [143275.05827513],\n",
       "       [184003.49650353],\n",
       "       [289994.17249412],\n",
       "       [528694.6386945 ],\n",
       "       [988916.0839159 ]])"
      ]
     },
     "execution_count": 59,
     "metadata": {},
     "output_type": "execute_result"
    }
   ],
   "source": [
    "pred_Salary"
   ]
  },
  {
   "cell_type": "code",
   "execution_count": 60,
   "id": "d7566b20",
   "metadata": {},
   "outputs": [
    {
     "data": {
      "text/html": [
       "<div>\n",
       "<style scoped>\n",
       "    .dataframe tbody tr th:only-of-type {\n",
       "        vertical-align: middle;\n",
       "    }\n",
       "\n",
       "    .dataframe tbody tr th {\n",
       "        vertical-align: top;\n",
       "    }\n",
       "\n",
       "    .dataframe thead th {\n",
       "        text-align: right;\n",
       "    }\n",
       "</style>\n",
       "<table border=\"1\" class=\"dataframe\">\n",
       "  <thead>\n",
       "    <tr style=\"text-align: right;\">\n",
       "      <th></th>\n",
       "      <th>Position</th>\n",
       "      <th>Level</th>\n",
       "      <th>Salary</th>\n",
       "      <th>Pred_Salary</th>\n",
       "    </tr>\n",
       "  </thead>\n",
       "  <tbody>\n",
       "    <tr>\n",
       "      <th>0</th>\n",
       "      <td>Business Analyst</td>\n",
       "      <td>1</td>\n",
       "      <td>45000</td>\n",
       "      <td>53356.643357</td>\n",
       "    </tr>\n",
       "    <tr>\n",
       "      <th>1</th>\n",
       "      <td>Junior Consultant</td>\n",
       "      <td>2</td>\n",
       "      <td>50000</td>\n",
       "      <td>31759.906760</td>\n",
       "    </tr>\n",
       "    <tr>\n",
       "      <th>2</th>\n",
       "      <td>Senior Consultant</td>\n",
       "      <td>3</td>\n",
       "      <td>60000</td>\n",
       "      <td>58642.191142</td>\n",
       "    </tr>\n",
       "    <tr>\n",
       "      <th>3</th>\n",
       "      <td>Manager</td>\n",
       "      <td>4</td>\n",
       "      <td>80000</td>\n",
       "      <td>94632.867133</td>\n",
       "    </tr>\n",
       "    <tr>\n",
       "      <th>4</th>\n",
       "      <td>Country Manager</td>\n",
       "      <td>5</td>\n",
       "      <td>110000</td>\n",
       "      <td>121724.941725</td>\n",
       "    </tr>\n",
       "    <tr>\n",
       "      <th>5</th>\n",
       "      <td>Region Manager</td>\n",
       "      <td>6</td>\n",
       "      <td>150000</td>\n",
       "      <td>143275.058275</td>\n",
       "    </tr>\n",
       "    <tr>\n",
       "      <th>6</th>\n",
       "      <td>Partner</td>\n",
       "      <td>7</td>\n",
       "      <td>200000</td>\n",
       "      <td>184003.496504</td>\n",
       "    </tr>\n",
       "    <tr>\n",
       "      <th>7</th>\n",
       "      <td>Senior Partner</td>\n",
       "      <td>8</td>\n",
       "      <td>300000</td>\n",
       "      <td>289994.172494</td>\n",
       "    </tr>\n",
       "    <tr>\n",
       "      <th>8</th>\n",
       "      <td>C-level</td>\n",
       "      <td>9</td>\n",
       "      <td>500000</td>\n",
       "      <td>528694.638694</td>\n",
       "    </tr>\n",
       "    <tr>\n",
       "      <th>9</th>\n",
       "      <td>CEO</td>\n",
       "      <td>10</td>\n",
       "      <td>1000000</td>\n",
       "      <td>988916.083916</td>\n",
       "    </tr>\n",
       "  </tbody>\n",
       "</table>\n",
       "</div>"
      ],
      "text/plain": [
       "            Position  Level   Salary    Pred_Salary\n",
       "0   Business Analyst      1    45000   53356.643357\n",
       "1  Junior Consultant      2    50000   31759.906760\n",
       "2  Senior Consultant      3    60000   58642.191142\n",
       "3            Manager      4    80000   94632.867133\n",
       "4    Country Manager      5   110000  121724.941725\n",
       "5     Region Manager      6   150000  143275.058275\n",
       "6            Partner      7   200000  184003.496504\n",
       "7     Senior Partner      8   300000  289994.172494\n",
       "8            C-level      9   500000  528694.638694\n",
       "9                CEO     10  1000000  988916.083916"
      ]
     },
     "execution_count": 60,
     "metadata": {},
     "output_type": "execute_result"
    }
   ],
   "source": [
    "data['Pred_Salary']=pred_Salary\n",
    "data"
   ]
  },
  {
   "cell_type": "markdown",
   "id": "c6613430",
   "metadata": {},
   "source": [
    "Error in Model:"
   ]
  },
  {
   "cell_type": "code",
   "execution_count": 61,
   "id": "a82f55d2",
   "metadata": {},
   "outputs": [
    {
     "data": {
      "text/plain": [
       "210343822.8438203"
      ]
     },
     "execution_count": 61,
     "metadata": {},
     "output_type": "execute_result"
    }
   ],
   "source": [
    "## To find error in model\n",
    "mean_squared_error(y,pred_Salary)"
   ]
  },
  {
   "cell_type": "code",
   "execution_count": 62,
   "id": "edf5fd53",
   "metadata": {},
   "outputs": [
    {
     "data": {
      "text/plain": [
       "14503.234909626897"
      ]
     },
     "execution_count": 62,
     "metadata": {},
     "output_type": "execute_result"
    }
   ],
   "source": [
    "sqrt(mean_squared_error(y,pred_Salary))"
   ]
  },
  {
   "cell_type": "markdown",
   "id": "b9c17e1f",
   "metadata": {},
   "source": [
    "Predicted Salary"
   ]
  },
  {
   "cell_type": "code",
   "execution_count": 63,
   "id": "99c3a76e",
   "metadata": {
    "scrolled": true
   },
   "outputs": [
    {
     "data": {
      "text/html": [
       "<div>\n",
       "<style scoped>\n",
       "    .dataframe tbody tr th:only-of-type {\n",
       "        vertical-align: middle;\n",
       "    }\n",
       "\n",
       "    .dataframe tbody tr th {\n",
       "        vertical-align: top;\n",
       "    }\n",
       "\n",
       "    .dataframe thead th {\n",
       "        text-align: right;\n",
       "    }\n",
       "</style>\n",
       "<table border=\"1\" class=\"dataframe\">\n",
       "  <thead>\n",
       "    <tr style=\"text-align: right;\">\n",
       "      <th></th>\n",
       "      <th>Position</th>\n",
       "      <th>Level</th>\n",
       "      <th>Salary</th>\n",
       "      <th>Pred_Salary</th>\n",
       "    </tr>\n",
       "  </thead>\n",
       "  <tbody>\n",
       "    <tr>\n",
       "      <th>0</th>\n",
       "      <td>Business Analyst</td>\n",
       "      <td>1</td>\n",
       "      <td>45000</td>\n",
       "      <td>53356.643357</td>\n",
       "    </tr>\n",
       "    <tr>\n",
       "      <th>1</th>\n",
       "      <td>Junior Consultant</td>\n",
       "      <td>2</td>\n",
       "      <td>50000</td>\n",
       "      <td>31759.906760</td>\n",
       "    </tr>\n",
       "    <tr>\n",
       "      <th>2</th>\n",
       "      <td>Senior Consultant</td>\n",
       "      <td>3</td>\n",
       "      <td>60000</td>\n",
       "      <td>58642.191142</td>\n",
       "    </tr>\n",
       "    <tr>\n",
       "      <th>3</th>\n",
       "      <td>Manager</td>\n",
       "      <td>4</td>\n",
       "      <td>80000</td>\n",
       "      <td>94632.867133</td>\n",
       "    </tr>\n",
       "    <tr>\n",
       "      <th>4</th>\n",
       "      <td>Country Manager</td>\n",
       "      <td>5</td>\n",
       "      <td>110000</td>\n",
       "      <td>121724.941725</td>\n",
       "    </tr>\n",
       "    <tr>\n",
       "      <th>5</th>\n",
       "      <td>Region Manager</td>\n",
       "      <td>6</td>\n",
       "      <td>150000</td>\n",
       "      <td>143275.058275</td>\n",
       "    </tr>\n",
       "    <tr>\n",
       "      <th>6</th>\n",
       "      <td>Partner</td>\n",
       "      <td>7</td>\n",
       "      <td>200000</td>\n",
       "      <td>184003.496504</td>\n",
       "    </tr>\n",
       "    <tr>\n",
       "      <th>7</th>\n",
       "      <td>Senior Partner</td>\n",
       "      <td>8</td>\n",
       "      <td>300000</td>\n",
       "      <td>289994.172494</td>\n",
       "    </tr>\n",
       "    <tr>\n",
       "      <th>8</th>\n",
       "      <td>C-level</td>\n",
       "      <td>9</td>\n",
       "      <td>500000</td>\n",
       "      <td>528694.638694</td>\n",
       "    </tr>\n",
       "    <tr>\n",
       "      <th>9</th>\n",
       "      <td>CEO</td>\n",
       "      <td>10</td>\n",
       "      <td>1000000</td>\n",
       "      <td>988916.083916</td>\n",
       "    </tr>\n",
       "  </tbody>\n",
       "</table>\n",
       "</div>"
      ],
      "text/plain": [
       "            Position  Level   Salary    Pred_Salary\n",
       "0   Business Analyst      1    45000   53356.643357\n",
       "1  Junior Consultant      2    50000   31759.906760\n",
       "2  Senior Consultant      3    60000   58642.191142\n",
       "3            Manager      4    80000   94632.867133\n",
       "4    Country Manager      5   110000  121724.941725\n",
       "5     Region Manager      6   150000  143275.058275\n",
       "6            Partner      7   200000  184003.496504\n",
       "7     Senior Partner      8   300000  289994.172494\n",
       "8            C-level      9   500000  528694.638694\n",
       "9                CEO     10  1000000  988916.083916"
      ]
     },
     "execution_count": 63,
     "metadata": {},
     "output_type": "execute_result"
    }
   ],
   "source": [
    "data['Pred_Salary']=pred_Salary\n",
    "data"
   ]
  },
  {
   "cell_type": "code",
   "execution_count": 64,
   "id": "7a2dd14f",
   "metadata": {},
   "outputs": [],
   "source": [
    "## Coefficients(m1,m2,m3) and intercept(C) values for Polynomial model "
   ]
  },
  {
   "cell_type": "code",
   "execution_count": 65,
   "id": "569b76b3",
   "metadata": {},
   "outputs": [
    {
     "data": {
      "text/plain": [
       "array([[      0.        , -211002.33100292,   94765.44289063,\n",
       "         -15463.28671331,     890.15151515]])"
      ]
     },
     "execution_count": 65,
     "metadata": {},
     "output_type": "execute_result"
    }
   ],
   "source": [
    "lin2.fit(Poly_x,y).coef_\n"
   ]
  },
  {
   "cell_type": "code",
   "execution_count": 66,
   "id": "a0c8b4ec",
   "metadata": {},
   "outputs": [
    {
     "data": {
      "text/plain": [
       "array([184166.66666727])"
      ]
     },
     "execution_count": 66,
     "metadata": {},
     "output_type": "execute_result"
    }
   ],
   "source": [
    "lin2.fit(Poly_x,y).intercept_"
   ]
  },
  {
   "cell_type": "code",
   "execution_count": 67,
   "id": "104ab900",
   "metadata": {},
   "outputs": [],
   "source": [
    "## R square value or Strength of the model"
   ]
  },
  {
   "cell_type": "code",
   "execution_count": 68,
   "id": "0c4a8b0c",
   "metadata": {},
   "outputs": [
    {
     "data": {
      "text/plain": [
       "0.9973922891706614"
      ]
     },
     "execution_count": 68,
     "metadata": {},
     "output_type": "execute_result"
    }
   ],
   "source": [
    "lin2.score(Poly.fit_transform(X),y)     ## Here R square value is more towards to one.So strength of model is too strong"
   ]
  },
  {
   "cell_type": "markdown",
   "id": "4a702b45",
   "metadata": {},
   "source": [
    " Predicting the Result"
   ]
  },
  {
   "cell_type": "code",
   "execution_count": 69,
   "id": "35ef0591",
   "metadata": {},
   "outputs": [],
   "source": [
    "## Now let's find the  New Employee Salary of level(X) 6.5 years using both linear and Polynomial model"
   ]
  },
  {
   "cell_type": "code",
   "execution_count": 70,
   "id": "e44a4827",
   "metadata": {},
   "outputs": [
    {
     "data": {
      "text/plain": [
       "array([[330378.78787879]])"
      ]
     },
     "execution_count": 70,
     "metadata": {},
     "output_type": "execute_result"
    }
   ],
   "source": [
    "lin.predict([[6.5]])"
   ]
  },
  {
   "cell_type": "code",
   "execution_count": 71,
   "id": "6b2e999c",
   "metadata": {},
   "outputs": [
    {
     "data": {
      "text/plain": [
       "array([[158862.45265157]])"
      ]
     },
     "execution_count": 71,
     "metadata": {},
     "output_type": "execute_result"
    }
   ],
   "source": [
    "# Predicting a new result with Polymonial Regression\n",
    "lin2.predict(Poly.fit_transform([[6.5]]))"
   ]
  },
  {
   "cell_type": "raw",
   "id": "51fd775f",
   "metadata": {},
   "source": [
    "According to our data set, our salary should be between level 6 and level 7 i.e,>150000 and <200000 (mean = 175000) Salary predicted through Polynomialregression is much accurate and closer to the mean. \n",
    "hence we can offer him Rs.158862.45 "
   ]
  }
 ],
 "metadata": {
  "kernelspec": {
   "display_name": "Python 3 (ipykernel)",
   "language": "python",
   "name": "python3"
  },
  "language_info": {
   "codemirror_mode": {
    "name": "ipython",
    "version": 3
   },
   "file_extension": ".py",
   "mimetype": "text/x-python",
   "name": "python",
   "nbconvert_exporter": "python",
   "pygments_lexer": "ipython3",
   "version": "3.9.13"
  }
 },
 "nbformat": 4,
 "nbformat_minor": 5
}
